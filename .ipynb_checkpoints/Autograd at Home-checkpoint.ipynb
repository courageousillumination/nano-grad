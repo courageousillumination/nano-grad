{
 "cells": [
  {
   "cell_type": "code",
   "execution_count": 10,
   "id": "927a1d8c",
   "metadata": {},
   "outputs": [],
   "source": [
    "%matplotlib inline\n",
    "import matplotlib.pyplot as plt\n",
    "import random\n",
    "from pprint import pprint"
   ]
  },
  {
   "cell_type": "code",
   "execution_count": 53,
   "id": "47f4731e",
   "metadata": {},
   "outputs": [],
   "source": [
    "# Generate some data that we'll test against\n",
    "\n",
    "start = 0\n",
    "stop = 10\n",
    "samples = 50\n",
    "noise = 20\n",
    "\n",
    "def true_value(x):\n",
    "    return -9.81 * x**2\n",
    "\n",
    "xs = [random.uniform(start, stop) for _ in range(samples)]\n",
    "ys = [true_value(x) + random.random() * noise for x in xs]\n",
    "data = list(zip(xs, ys))"
   ]
  },
  {
   "cell_type": "markdown",
   "id": "53115120",
   "metadata": {},
   "source": [
    "Now we have some data. We have a pretty good sense about what happens visually, but how would we represent that to a computer?"
   ]
  },
  {
   "cell_type": "code",
   "execution_count": 54,
   "id": "2c189a47",
   "metadata": {},
   "outputs": [
    {
     "name": "stdout",
     "output_type": "stream",
     "text": [
      "[(1.3779350098670928, -5.514967593916751),\n",
      " (8.349640563538353, -681.0804447892762),\n",
      " (6.228210686197599, -378.0580276693719),\n",
      " (5.60565303769687, -288.66284914077517),\n",
      " (9.586144677421927, -896.3037186333096),\n",
      " (7.78617681602431, -583.9414186304515),\n",
      " (7.648352329903554, -564.0877777709838),\n",
      " (8.239764002769137, -657.1872960064859),\n",
      " (7.661129386411907, -573.3104128447397),\n",
      " (8.77605792470913, -736.304239020087),\n",
      " (8.455950153210537, -688.3662964095519),\n",
      " (5.554059318334293, -283.0641902315052),\n",
      " (9.890593500870466, -948.8739361582367),\n",
      " (7.155361709244304, -497.010372151165),\n",
      " (4.850848674805376, -226.58094403367897),\n",
      " (6.277765793247494, -368.8754633295687),\n",
      " (0.8279985470256324, -2.611782604326204),\n",
      " (7.714440080674283, -573.0011974244934),\n",
      " (3.2479199855766216, -91.21801747853698),\n",
      " (9.94487186169997, -961.4117229294189),\n",
      " (4.870148572976789, -219.83380922972208),\n",
      " (1.2110473671063748, -10.448384803204583),\n",
      " (5.9051368528780115, -326.1301404809383),\n",
      " (4.536756274041386, -189.36506371553068),\n",
      " (5.332355206109366, -278.20176147558556),\n",
      " (4.458635734217749, -193.15561177824392),\n",
      " (7.9050203474118295, -611.8715221559804),\n",
      " (6.9081773577092545, -467.4772862526795),\n",
      " (5.651583458197519, -302.39905690014336),\n",
      " (2.482718852929231, -45.18666211746521),\n",
      " (8.310978526552415, -659.6916974739783),\n",
      " (7.4110929302411, -524.8981840069823),\n",
      " (1.9207624965901349, -16.247287789007146),\n",
      " (8.270331367848735, -655.594883594907),\n",
      " (8.581351936948455, -711.908899493739),\n",
      " (6.932048328943158, -465.1456797277974),\n",
      " (9.53365987184603, -878.6737589451186),\n",
      " (6.3336484405644615, -376.09189974774523),\n",
      " (8.459347036133016, -700.0939995016896),\n",
      " (4.800706529597275, -215.88636892441056),\n",
      " (4.597148623482015, -201.65162086051365),\n",
      " (3.3433412540167806, -96.30491246429776),\n",
      " (0.35838696116203383, 9.59688827482857),\n",
      " (1.2326233872769665, -0.4317425325574682),\n",
      " (2.223690124947203, -46.88268484401072),\n",
      " (0.7872159157520586, 9.82569043206474),\n",
      " (4.634732219018355, -206.0407639698161),\n",
      " (6.703526088579319, -429.75536260605776),\n",
      " (1.501731999983712, -10.907617875299774),\n",
      " (4.214229621749933, -168.49241746341355)]\n"
     ]
    },
    {
     "data": {
      "image/png": "[encoded data removed]",
      "text/plain": [
       "<Figure size 640x480 with 1 Axes>"
      ]
     },
     "metadata": {},
     "output_type": "display_data"
    }
   ],
   "source": [
    "pprint(data) \n",
    "plt.scatter(xs, ys)\n",
    "plt.show()"
   ]
  },
  {
   "cell_type": "markdown",
   "id": "2b52bf5d",
   "metadata": {},
   "source": [
    "So to begin we want to define a model. A model is going to do _something_ under the hood, and when we give it an input we expect to get an output. We'll start by defining a drop dead simple model that just returns the input back to us."
   ]
  },
  {
   "cell_type": "code",
   "execution_count": 26,
   "id": "3e6fa223",
   "metadata": {},
   "outputs": [],
   "source": [
    "def model(x):\n",
    "    return x"
   ]
  },
  {
   "cell_type": "markdown",
   "id": "0eddb986",
   "metadata": {},
   "source": [
    "Ok! Now we have a model. So we need to determine how \"good\" the model is at fitting our data. An easy way to check this is to say \"if I give the model `x`, how far away is that from `data[x]`. We need to be a bit careful: we can't just say `data[x] - model(x)` because our model could be off in two very different directions and they would cancel out. So instead we'll square the values. This gives us a function for \"loss\". To assess the overall strength of the model, we'll calculate the average loss over our entire data set."
   ]
  },
  {
   "cell_type": "code",
   "execution_count": 55,
   "id": "8f829d11",
   "metadata": {},
   "outputs": [
    {
     "name": "stdout",
     "output_type": "stream",
     "text": [
      "l1=47.51210630525009\n",
      "l2=475313.8425895892\n",
      "loss=230233.91323322963\n"
     ]
    }
   ],
   "source": [
    "def calculate_loss(model):\n",
    "    return sum((y - model(x)) ** 2 for x,y in data) / len(data)\n",
    "\n",
    "l1 = (ys[0] - model(xs[0])) ** 2\n",
    "l2 = (ys[1] - model(xs[1])) ** 2\n",
    "loss = calculate_loss(model)\n",
    "print(f\"{l1=}\")\n",
    "print(f\"{l2=}\")\n",
    "print(f\"{loss=}\")\n"
   ]
  },
  {
   "cell_type": "markdown",
   "id": "15f56426",
   "metadata": {},
   "source": [
    "Not great. That is a pretty big loss. But obviously, we chose a model that doesn't really line up with our data. So, for our next step, we're going to assume we know the _form_ of the data (in this case it's a quadratic). We'll talk in the future about what we can do when we don't know the form of our data. So, for a simple quadratic we have something new: a model paramater. This is a knob that we can adjust to see how well our model is performing. Let's write our new model and play with the parameter a bit."
   ]
  },
  {
   "cell_type": "code",
   "execution_count": 56,
   "id": "41cedf4b",
   "metadata": {},
   "outputs": [
    {
     "name": "stdout",
     "output_type": "stream",
     "text": [
      "loss1=224,382.14, loss2=365.97\n"
     ]
    }
   ],
   "source": [
    "class ParameterizedModel():\n",
    "    def __init__(self, parameter):\n",
    "        self.parameter = parameter\n",
    "    \n",
    "    def __call__(self, x):\n",
    "        return self.parameter * x ** 2\n",
    "    \n",
    "model1 = ParameterizedModel(0)\n",
    "model2 = ParameterizedModel(-10)\n",
    "\n",
    "loss1 = calculate_loss(model1)\n",
    "loss2 = calculate_loss(model2)\n",
    "print(f\"{loss1=:,.2f}, {loss2=:,.2f}\")"
   ]
  },
  {
   "cell_type": "markdown",
   "id": "d6afbc2c",
   "metadata": {},
   "source": [
    "Ok, now we're getting somewhere! We can say that model2 is a \"better\" model (at least given the loss function we've defined). Now the question becomes: what can we do to get the \"best\" model? What would give us the lowest loss? Obviously we can't just guess and check ourselves, but we can have a computer do that."
   ]
  },
  {
   "cell_type": "code",
   "execution_count": 57,
   "id": "b328b079",
   "metadata": {},
   "outputs": [
    {
     "name": "stdout",
     "output_type": "stream",
     "text": [
      "loss=75.01186702667768, optimized.parameter=-9.599999999999982\n"
     ]
    }
   ],
   "source": [
    "def simple_optimize(model, delta=0.1, iterations=1000):\n",
    "    for _ in range(iterations):\n",
    "        # Calculate the loss if we move up by delta.\n",
    "        model_candidate1 = ParameterizedModel(model.parameter + delta)\n",
    "        loss1 = calculate_loss(model_candidate1)\n",
    "        # Calculate the loss if we move down by delta.\n",
    "        model_candidate2 = ParameterizedModel(model.parameter - delta)\n",
    "        loss2 = calculate_loss(model_candidate2)\n",
    "        # Calculate the current loss.\n",
    "        current_loss = calculate_loss(model)\n",
    "        \n",
    "        if loss1 < current_loss:\n",
    "            model = model_candidate1\n",
    "        elif loss2 < current_loss:\n",
    "            model = model_candidate2\n",
    "        else:\n",
    "            # We've optimized as much as we can.\n",
    "            break\n",
    "    return model\n",
    "\n",
    "optimized = simple_optimize(model1)\n",
    "loss = calculate_loss(optimized)\n",
    "print(f\"{loss=}, {optimized.parameter=}\")"
   ]
  }
 ],
 "metadata": {
  "kernelspec": {
   "display_name": "Python 3 (ipykernel)",
   "language": "python",
   "name": "python3"
  },
  "language_info": {
   "codemirror_mode": {
    "name": "ipython",
    "version": 3
   },
   "file_extension": ".py",
   "mimetype": "text/x-python",
   "name": "python",
   "nbconvert_exporter": "python",
   "pygments_lexer": "ipython3",
   "version": "3.10.6"
  }
 },
 "nbformat": 4,
 "nbformat_minor": 5
}
