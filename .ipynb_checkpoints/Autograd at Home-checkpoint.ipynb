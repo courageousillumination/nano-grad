{
 "cells": [
  {
   "cell_type": "code",
   "execution_count": 2,
   "id": "927a1d8c",
   "metadata": {},
   "outputs": [],
   "source": [
    "%matplotlib inline\n",
    "import matplotlib.pyplot as plt\n",
    "import random\n",
    "from pprint import pprint"
   ]
  },
  {
   "cell_type": "code",
   "execution_count": 46,
   "id": "47f4731e",
   "metadata": {},
   "outputs": [],
   "source": [
    "# Generate some data that we'll test against\n",
    "\n",
    "start = 0\n",
    "stop = 10\n",
    "samples = 50\n",
    "noise = 20\n",
    "\n",
    "def true_value(x):\n",
    "    return -9.81 * x**2\n",
    "\n",
    "xs = [random.uniform(start, stop) for _ in range(samples)]\n",
    "ys = [true_value(x) + random.random() * noise for x in xs]\n",
    "data = list(zip(xs, ys))"
   ]
  },
  {
   "cell_type": "markdown",
   "id": "b95f7781",
   "metadata": {},
   "source": [
    "Now we have some data. We have a pretty good sense about what happens visually, but how would we represent that to a computer?"
   ]
  },
  {
   "cell_type": "code",
   "execution_count": 30,
   "id": "2c189a47",
   "metadata": {},
   "outputs": [
    {
     "name": "stdout",
     "output_type": "stream",
     "text": [
      "[(1.5085740117555402, 2.399904426084624),\n",
      " (2.5154068802447305, 1.4661954532152919),\n",
      " (4.673036496301477, -82.7207499661754),\n",
      " (6.361735520437151, -155.0548915442644),\n",
      " (6.328830962578612, -163.58722264567606),\n",
      " (1.5755900073498463, 2.8243734109430605),\n",
      " (9.793301066120586, -409.78162639388137),\n",
      " (4.3141669227177815, -51.06499060571062),\n",
      " (8.849453038427226, -320.12980947899115),\n",
      " (7.893911749751785, -250.16260087213007),\n",
      " (6.117314616522986, -139.69202052711643),\n",
      " (4.392648645528165, -65.01941620025241),\n",
      " (3.4246344313244625, -38.147009967089815),\n",
      " (9.15796257172945, -362.608890833521),\n",
      " (4.581286872961217, -72.5688262533452),\n",
      " (7.484840525801781, -233.4426198612639),\n",
      " (2.5758505695993583, -13.93879393116608),\n",
      " (6.326928324495283, -157.7322934179298),\n",
      " (1.7745160936358528, 9.509767793335547),\n",
      " (4.715673848990586, -84.86948062183612),\n",
      " (9.52314485608684, -386.99944080472244),\n",
      " (5.489961846942437, -114.3538972194082),\n",
      " (2.3818018072419633, -7.151501710155625),\n",
      " (9.229619319258159, -353.4970995699301),\n",
      " (6.309942949419087, -148.22988732457122),\n",
      " (6.452515864202494, -167.16691448822704),\n",
      " (1.2188289870683722, 2.702651140344993),\n",
      " (3.226134331512397, -20.68323056935803),\n",
      " (8.994914455103949, -343.7618192323152),\n",
      " (4.945278754098872, -94.30989481587288),\n",
      " (7.955102537029851, -269.56721848988315),\n",
      " (1.7351559504450753, -1.5133487412641369),\n",
      " (6.997614517026158, -188.03159732787574),\n",
      " (4.762633403832279, -78.02435848353416),\n",
      " (3.2540764336517523, -23.43013020606719),\n",
      " (9.72298841247819, -413.512693757202),\n",
      " (2.3846266805125538, 1.1653043114893045),\n",
      " (3.252138146681023, -28.00905786308109),\n",
      " (4.594441520475037, -72.17425038339421),\n",
      " (1.535466248036278, 7.999935410034441),\n",
      " (0.2706932908299575, 6.241494758217281),\n",
      " (4.778920557257631, -75.12773795820779),\n",
      " (1.3353257542768404, 12.053306961960233),\n",
      " (6.469970960852845, -158.1054026680805),\n",
      " (8.532218094478454, -311.6732394755361),\n",
      " (9.985225319868544, -430.96973596969104),\n",
      " (9.42806284169457, -373.42250745510114),\n",
      " (3.0730932920810163, -24.120832367068203),\n",
      " (7.927500614367348, -251.27641655988378),\n",
      " (8.871970360066069, -325.68810947259146)]\n"
     ]
    },
    {
     "data": {
      "image/png": "[encoded data removed]",
      "text/plain": [
       "<Figure size 640x480 with 1 Axes>"
      ]
     },
     "metadata": {},
     "output_type": "display_data"
    }
   ],
   "source": [
    "pprint(data) \n",
    "plt.scatter(xs, ys)\n",
    "plt.show()"
   ]
  },
  {
   "cell_type": "markdown",
   "id": "7f090148",
   "metadata": {},
   "source": [
    "So to begin we want to define a model. A model is going to do _something_ under the hood, and when we give it an input we expect to get an output. We'll start by defining a drop dead simple model that just returns the input back to us."
   ]
  },
  {
   "cell_type": "code",
   "execution_count": 5,
   "id": "680cb041",
   "metadata": {},
   "outputs": [],
   "source": [
    "def model(x):\n",
    "    return x"
   ]
  },
  {
   "cell_type": "markdown",
   "id": "76e45a4a",
   "metadata": {},
   "source": [
    "Ok! Now we have a model. So we need to determine how \"good\" the model is at fitting our data. An easy way to check this is to say \"if I give the model `x`, how far away is that from `data[x]`. We need to be a bit careful: we can't just say `data[x] - model(x)` because our model could be off in two very different directions and they would cancel out. So instead we'll square the values. This gives us a function for \"loss\". To assess the overall strength of the model, we'll calculate the average loss over our entire data set."
   ]
  },
  {
   "cell_type": "code",
   "execution_count": 6,
   "id": "6b46a86e",
   "metadata": {},
   "outputs": [
    {
     "name": "stdout",
     "output_type": "stream",
     "text": [
      "l1=728058.299562242\n",
      "l2=38.59558744495573\n",
      "loss=13336245.221883038\n"
     ]
    }
   ],
   "source": [
    "def calculate_loss(model):\n",
    "    return sum((y - model(x)) ** 2 for x,y in data)\n",
    "\n",
    "l1 = (ys[0] - model(xs[0])) ** 2\n",
    "l2 = (ys[1] - model(xs[1])) ** 2\n",
    "loss = calculate_loss(model)\n",
    "print(f\"{l1=}\")\n",
    "print(f\"{l2=}\")\n",
    "print(f\"{loss=}\")\n"
   ]
  },
  {
   "cell_type": "markdown",
   "id": "f139f129",
   "metadata": {},
   "source": [
    "Not great. That is a pretty big loss. But obviously, we chose a model that doesn't really line up with our data. So, for our next step, we're going to assume we know the _form_ of the data (in this case it's a quadratic). We'll talk in the future about what we can do when we don't know the form of our data. So, for a simple quadratic we have something new: a model paramater. This is a knob that we can adjust to see how well our model is performing. Let's write our new model and play with the parameter a bit."
   ]
  },
  {
   "cell_type": "code",
   "execution_count": 7,
   "id": "4dbcd762",
   "metadata": {},
   "outputs": [
    {
     "name": "stdout",
     "output_type": "stream",
     "text": [
      "loss1=13,010,515.33, loss2=20,777.24\n"
     ]
    }
   ],
   "source": [
    "class ParameterizedModel():\n",
    "    def __init__(self, parameter):\n",
    "        self.parameter = parameter\n",
    "    \n",
    "    def __call__(self, x):\n",
    "        return self.parameter * x ** 2\n",
    "    \n",
    "model1 = ParameterizedModel(0)\n",
    "model2 = ParameterizedModel(-10)\n",
    "\n",
    "loss1 = calculate_loss(model1)\n",
    "loss2 = calculate_loss(model2)\n",
    "print(f\"{loss1=:,.2f}, {loss2=:,.2f}\")"
   ]
  },
  {
   "cell_type": "markdown",
   "id": "4880faf1",
   "metadata": {},
   "source": [
    "Ok, now we're getting somewhere! We can say that model2 is a \"better\" model (at least given the loss function we've defined). Now the question becomes: what can we do to get the \"best\" model? What would give us the lowest loss? Obviously we can't just guess and check ourselves, but we can have a computer do that."
   ]
  },
  {
   "cell_type": "code",
   "execution_count": 8,
   "id": "96357a8a",
   "metadata": {},
   "outputs": [
    {
     "name": "stdout",
     "output_type": "stream",
     "text": [
      "Breaking after 96 iterations\n",
      "loss=3507.51, optimized.parameter=-9.599999999999982\n"
     ]
    }
   ],
   "source": [
    "def simple_optimize(model, delta=0.1, iterations=1000):\n",
    "    for i in range(iterations):\n",
    "        # Calculate the loss if we move up by delta.\n",
    "        model_candidate1 = ParameterizedModel(model.parameter + delta)\n",
    "        loss1 = calculate_loss(model_candidate1)\n",
    "        # Calculate the loss if we move down by delta.\n",
    "        model_candidate2 = ParameterizedModel(model.parameter - delta)\n",
    "        loss2 = calculate_loss(model_candidate2)\n",
    "        # Calculate the current loss.\n",
    "        current_loss = calculate_loss(model)\n",
    "        \n",
    "        if loss1 < current_loss:\n",
    "            model = model_candidate1\n",
    "        elif loss2 < current_loss:\n",
    "            model = model_candidate2\n",
    "        else:\n",
    "            # We've optimized as much as we can.\n",
    "            print(f\"Breaking after {i} iterations\")\n",
    "            break\n",
    "    return model\n",
    "\n",
    "optimized = simple_optimize(ParameterizedModel(0))\n",
    "loss = calculate_loss(optimized)\n",
    "print(f\"{loss=:.2f}, {optimized.parameter=}\")"
   ]
  },
  {
   "cell_type": "markdown",
   "id": "e98a2b2d",
   "metadata": {},
   "source": [
    "Now, this is great! We've reduced our loss significantly and we've got a model which can give us some predictive power. But it's not very stable. We have a very high dependence on our starting position; if we start far away it takes much longer to get there. Additionally, we are limited by our delta. Ok, so what could we do with this? Well there's a broad idea that when we don't know much (at the start) we should move much further. And as we get closer and closer, we can make smaller and smaller updates.\n",
    "\n",
    "To start with this idea, let's begin by plotting loss over the range of parameters."
   ]
  },
  {
   "cell_type": "code",
   "execution_count": 9,
   "id": "ab969919",
   "metadata": {},
   "outputs": [
    {
     "data": {
      "image/png": "[encoded data removed]",
      "text/plain": [
       "<Figure size 640x480 with 1 Axes>"
      ]
     },
     "metadata": {},
     "output_type": "display_data"
    }
   ],
   "source": [
    "loss_xs = [-x * 0.1 for x in range(0, 120)]\n",
    "loss_ys = []\n",
    "for x in loss_xs:\n",
    "    model = ParameterizedModel(x)\n",
    "    loss = calculate_loss(model)\n",
    "    loss_ys.append(loss)\n",
    "plt.plot(loss_xs, loss_ys)\n",
    "plt.show()"
   ]
  },
  {
   "cell_type": "markdown",
   "id": "10f34478",
   "metadata": {},
   "source": [
    "So how do we determine how far we should jump given our current loss? To do this, we want to measure the **derivative** of loss. Now, in this specific case, we could calculate this analytically: `dLoss/dp = d/dp(\\sum ((p * x ^ 2) - y)^2) = 2 p x^4 - 2 x^2 y` (thanks WolframAlpha, but should be all relatively straightforward calculus)"
   ]
  },
  {
   "cell_type": "code",
   "execution_count": 10,
   "id": "f0f063a7",
   "metadata": {},
   "outputs": [],
   "source": [
    "def analytic_derivative(p):\n",
    "    return sum(2 * p * x**4 - 2 * x **2 * y for (x,y) in data)"
   ]
  },
  {
   "cell_type": "markdown",
   "id": "2640093c",
   "metadata": {},
   "source": [
    "Now, we could use this analytical derivative in our optimization. At each step we move a little bit in the _negative_ direction of the derivative (negative, since we want to minimize loss)."
   ]
  },
  {
   "cell_type": "code",
   "execution_count": 11,
   "id": "ad6539dd",
   "metadata": {},
   "outputs": [
    {
     "name": "stdout",
     "output_type": "stream",
     "text": [
      "Breaking after 487 iterations\n",
      "loss=3216.89, optimized.parameter=-9.646\n"
     ]
    }
   ],
   "source": [
    "def simple_optimize(model, learning_rate=1e-7, iterations=1000, min_delta=1e-8):\n",
    "    for i in range(iterations):\n",
    "        derivative = analytic_derivative(model.parameter)\n",
    "        delta = learning_rate * -derivative \n",
    "        if abs(delta) < min_delta:\n",
    "            print(f\"Breaking after {i} iterations\")\n",
    "            break\n",
    "        model = ParameterizedModel(delta + model.parameter)\n",
    "    return model\n",
    "\n",
    "optimized = simple_optimize(ParameterizedModel(-10))\n",
    "loss = calculate_loss(optimized)\n",
    "print(f\"{loss=:.2f}, {optimized.parameter=:.3f}\")"
   ]
  },
  {
   "cell_type": "markdown",
   "id": "85c5a36e",
   "metadata": {},
   "source": [
    "Now, analytical derivatives are great, but really a pain to calculate by hand. How can we have the computer calculate the derivative for us? To accomplish this, we'll use a process called backpropegation. This relies on the fact that the loss function is a relatively straightforward series of function applications and we can use the chain rule to compute the derivative directly.\n",
    "\n",
    "\n",
    "For example, let's just consider the simple equation\n",
    "\n",
    "`x = a + b`\n",
    "\n",
    "Now, let's assume that we know the derivative of x (dx). How do we compute the derivative of a and b (da and db)? If we hold b constant and adjust a that derivative will be immediately reflected in dx, and similary for holding a constant. So if we know the gradient for x we can apply that same gradient to a and b."
   ]
  },
  {
   "cell_type": "markdown",
   "id": "5b655bec",
   "metadata": {},
   "source": [
    "Now, in our entire model we only have three operations: addition, multiplication, and exponentiation (subtraction is addition + multiplication). Now, how would we carry out the same process for multiplication:\n",
    "\n",
    "`x = a * b`\n",
    "\n",
    "In this case, if we held b constant, the derivative would be `b (dx)` and if we held a constant it would be `a (dx)`"
   ]
  },
  {
   "cell_type": "markdown",
   "id": "6ea814e9",
   "metadata": {},
   "source": [
    "Finally for exponentiation\n",
    "\n",
    "`x = a^b`\n",
    "\n",
    "We will only deal with the case where b is a floating point (no variables in the exponents). In that case, applying the chain rule we get \n",
    "\n",
    "`(b * a ** (b-1)) * dx`\n"
   ]
  },
  {
   "cell_type": "markdown",
   "id": "f6ee5c80",
   "metadata": {},
   "source": [
    "To put this all together we're going to create a class that will act like a number, but allow us to push through these variables. To start, let's just define our base class"
   ]
  },
  {
   "cell_type": "code",
   "execution_count": 12,
   "id": "6ad41e91",
   "metadata": {},
   "outputs": [],
   "source": [
    "class Value():\n",
    "    def __init__(self, data):\n",
    "        self.data = data\n",
    "    \n",
    "    def __add__(self, other):\n",
    "        other = other if isinstance(other, Value) else Value(other)\n",
    "        return Value(self.data + other.data)\n",
    "\n",
    "    def __mul__(self, other):\n",
    "        other = other if isinstance(other, Value) else Value(other)\n",
    "        return Value(self.data * other.data)\n",
    "    \n",
    "    def __pow__(self, other):\n",
    "        other = other if isinstance(other, Value) else Value(other)\n",
    "        return Value(self.data ** other.data)\n",
    "\n",
    "    # Build subtraction and negation from the primitives we have.\n",
    "    def __sub__(self, other):\n",
    "        return self + (-other)\n",
    "    \n",
    "    def __neg__(self): # -self\n",
    "        return self * -1\n",
    "    \n",
    "    def __radd__(self, other):\n",
    "        return self + other\n",
    "    \n",
    "    def __repr__(self):\n",
    "        return f\"Value({self.data=}))\"\n",
    "    \n"
   ]
  },
  {
   "cell_type": "code",
   "execution_count": 13,
   "id": "a33ad096",
   "metadata": {},
   "outputs": [
    {
     "name": "stdout",
     "output_type": "stream",
     "text": [
      "Value(self.data=13336245.221883038))\n"
     ]
    }
   ],
   "source": [
    "# Wrap our data\n",
    "wrapped_data = [(Value(x), Value(y)) for x,y in data]\n",
    "\n",
    "def calculate_loss_wrapped(model):\n",
    "    return sum((y - model(x)) ** 2 for x,y in wrapped_data)\n",
    "\n",
    "def simple_model(x):\n",
    "    return x\n",
    "\n",
    "print(calculate_loss_wrapped(simple_model))"
   ]
  },
  {
   "cell_type": "code",
   "execution_count": 47,
   "id": "8b7a596b",
   "metadata": {},
   "outputs": [],
   "source": [
    "# Now we can update our model by adding the backwards pass\n",
    "class Value():\n",
    "    def __init__(self, data, children = []):\n",
    "        self.data = data\n",
    "        self.children = children\n",
    "        self._backwards = None\n",
    "        self.grad = 0\n",
    "        \n",
    "    def backwards(self, init=True):\n",
    "        if init:\n",
    "            self.grad = 1\n",
    "        \n",
    "        if self._backwards:\n",
    "            self._backwards()\n",
    "        for child in self.children:\n",
    "            child.backwards(False)\n",
    "    \n",
    "    def __add__(self, other):\n",
    "        other = other if isinstance(other, Value) else Value(other)\n",
    "        out = Value(self.data + other.data, [self, other])\n",
    "        def _backwards():\n",
    "            self.grad += out.grad\n",
    "            other.grad += out.grad\n",
    "        out._backwards = _backwards\n",
    "        return out\n",
    "\n",
    "    def __mul__(self, other):\n",
    "        other = other if isinstance(other, Value) else Value(other)\n",
    "        out = Value(self.data * other.data, [self, other])\n",
    "        def _backwards():\n",
    "            self.grad += other.data * out.grad\n",
    "            other.grad += self.data * out.grad\n",
    "        out._backwards = _backwards\n",
    "        return out\n",
    "    \n",
    "    def __pow__(self, other):\n",
    "        other = other if isinstance(other, Value) else Value(other)\n",
    "        out = Value(self.data ** other.data, [self, other])\n",
    "        def _backwards():\n",
    "            self.grad += (other.data * self.data ** (other.data - 1)) * out.grad\n",
    "        out._backwards = _backwards\n",
    "        return out\n",
    "\n",
    "    # Build subtraction and negation from the primitives we have.\n",
    "    def __sub__(self, other):\n",
    "        return self + (-other)\n",
    "    \n",
    "    def __neg__(self): # -self\n",
    "        return self * -1\n",
    "    \n",
    "    def __radd__(self, other):\n",
    "        return self + other\n",
    "    \n",
    "    def __rmul__(self, other):\n",
    "        return self * other\n",
    "    \n",
    "    def __repr__(self):\n",
    "        return f\"Value({self.data=}))\"\n",
    "\n",
    "# Wrap data with new value class\n",
    "wrapped_data = [(Value(x), Value(y)) for x,y in data]\n"
   ]
  },
  {
   "cell_type": "code",
   "execution_count": 48,
   "id": "2234ac43",
   "metadata": {},
   "outputs": [
    {
     "name": "stdout",
     "output_type": "stream",
     "text": [
      "Autograd = -16.800982994424917, Analytic = -16.800982994424913\n"
     ]
    }
   ],
   "source": [
    "p = Value(2)\n",
    "\n",
    "def model(x):\n",
    "    return p * x ** 2\n",
    "\n",
    "\n",
    "x, y = wrapped_data[0]\n",
    "loss = (y - model(x)) ** 2\n",
    "loss.backwards()\n",
    "print(f\"Autograd = {p.grad}, Analytic = {2 * p.data * x.data**4 - 2 * x.data **2 * y.data}\")"
   ]
  },
  {
   "cell_type": "code",
   "execution_count": 49,
   "id": "5cfbcd17",
   "metadata": {},
   "outputs": [
    {
     "name": "stdout",
     "output_type": "stream",
     "text": [
      "loss.data=35888.36, optimized.parameter.data=-7.181\n"
     ]
    }
   ],
   "source": [
    "class ParameterizedModel():\n",
    "    def __init__(self, parameter):\n",
    "        self.parameter = parameter\n",
    "        \n",
    "        \n",
    "    def parameters(self):\n",
    "        return [self.parameter]\n",
    "    \n",
    "    def __call__(self, x):\n",
    "        return self.parameter * x ** 2\n",
    "\n",
    "def back_prop_optimize(model, learning_rate=1e-7, iterations=1000, min_delta=1e-8):\n",
    "    for i in range(iterations):\n",
    "        \n",
    "        for p in model.parameters():\n",
    "            p.grad = 0\n",
    "        \n",
    "        loss = calculate_loss_wrapped(model)\n",
    "        loss.backwards()\n",
    "        \n",
    "        for p in model.parameters():\n",
    "            derivative = p.grad\n",
    "            delta = learning_rate * -derivative\n",
    "            p.data += delta\n",
    "    return model\n",
    "\n",
    "optimized = back_prop_optimize(ParameterizedModel(Value(-10)))\n",
    "loss = calculate_loss_wrapped(optimized)\n",
    "print(f\"{loss.data=:.2f}, {optimized.parameter.data=:.3f}\")"
   ]
  },
  {
   "cell_type": "markdown",
   "id": "9a48bbc1",
   "metadata": {},
   "source": [
    "Now, this is very powerful. We no longer need analytical derivatives, and we can do our calculations for any model that uses just our three methods. For example, if we wanted to try a more complex quadratic, we could do that."
   ]
  },
  {
   "cell_type": "code",
   "execution_count": 50,
   "id": "61b51b66",
   "metadata": {},
   "outputs": [
    {
     "name": "stdout",
     "output_type": "stream",
     "text": [
      "loss.data=31204.98, optimized.p1.data=-7.248 optimized.p2.data=0.121 optimized.p3.data=2.969\n"
     ]
    }
   ],
   "source": [
    "class ComplexModel():\n",
    "    def __init__(self, p1, p2, p3):\n",
    "        self.p1 = p1\n",
    "        self.p2 = p2\n",
    "        self.p3 = p3\n",
    "    \n",
    "    def __call__(self, x):\n",
    "        return  self.p1 * x ** 2 + self.p2 * x + self.p3 \n",
    "    def parameters(self):\n",
    "        return [self.p1, self.p2, self.p3]\n",
    "    \n",
    "optimized = back_prop_optimize(CubicModel(Value(2), Value(1), Value(3)))\n",
    "loss = calculate_loss_wrapped(optimized)\n",
    "print(f\"{loss.data=:.2f}, {optimized.p1.data=:.3f} {optimized.p2.data=:.3f} {optimized.p3.data=:.3f}\")"
   ]
  },
  {
   "cell_type": "markdown",
   "id": "3c506a49",
   "metadata": {},
   "source": [
    "Next time, we'll use tihs iead of back propegation and autograd to start optimizing neural networks."
   ]
  }
 ],
 "metadata": {
  "kernelspec": {
   "display_name": "Python 3 (ipykernel)",
   "language": "python",
   "name": "python3"
  },
  "language_info": {
   "codemirror_mode": {
    "name": "ipython",
    "version": 3
   },
   "file_extension": ".py",
   "mimetype": "text/x-python",
   "name": "python",
   "nbconvert_exporter": "python",
   "pygments_lexer": "ipython3",
   "version": "3.10.6"
  }
 },
 "nbformat": 4,
 "nbformat_minor": 5
}
